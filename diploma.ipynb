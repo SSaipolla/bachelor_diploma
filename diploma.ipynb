{
  "nbformat": 4,
  "nbformat_minor": 0,
  "metadata": {
    "colab": {
      "provenance": [],
      "collapsed_sections": []
    },
    "kernelspec": {
      "name": "python3",
      "display_name": "Python 3"
    },
    "accelerator": "GPU"
  },
  "cells": [
    {
      "cell_type": "code",
      "metadata": {
        "id": "r5Nab2LtbaCq",
        "colab": {
          "resources": {
            "http://localhost:8080/nbextensions/google.colab/files.js": {
              "data": "Ly8gQ29weXJpZ2h0IDIwMTcgR29vZ2xlIExMQwovLwovLyBMaWNlbnNlZCB1bmRlciB0aGUgQXBhY2hlIExpY2Vuc2UsIFZlcnNpb24gMi4wICh0aGUgIkxpY2Vuc2UiKTsKLy8geW91IG1heSBub3QgdXNlIHRoaXMgZmlsZSBleGNlcHQgaW4gY29tcGxpYW5jZSB3aXRoIHRoZSBMaWNlbnNlLgovLyBZb3UgbWF5IG9idGFpbiBhIGNvcHkgb2YgdGhlIExpY2Vuc2UgYXQKLy8KLy8gICAgICBodHRwOi8vd3d3LmFwYWNoZS5vcmcvbGljZW5zZXMvTElDRU5TRS0yLjAKLy8KLy8gVW5sZXNzIHJlcXVpcmVkIGJ5IGFwcGxpY2FibGUgbGF3IG9yIGFncmVlZCB0byBpbiB3cml0aW5nLCBzb2Z0d2FyZQovLyBkaXN0cmlidXRlZCB1bmRlciB0aGUgTGljZW5zZSBpcyBkaXN0cmlidXRlZCBvbiBhbiAiQVMgSVMiIEJBU0lTLAovLyBXSVRIT1VUIFdBUlJBTlRJRVMgT1IgQ09ORElUSU9OUyBPRiBBTlkgS0lORCwgZWl0aGVyIGV4cHJlc3Mgb3IgaW1wbGllZC4KLy8gU2VlIHRoZSBMaWNlbnNlIGZvciB0aGUgc3BlY2lmaWMgbGFuZ3VhZ2UgZ292ZXJuaW5nIHBlcm1pc3Npb25zIGFuZAovLyBsaW1pdGF0aW9ucyB1bmRlciB0aGUgTGljZW5zZS4KCi8qKgogKiBAZmlsZW92ZXJ2aWV3IEhlbHBlcnMgZm9yIGdvb2dsZS5jb2xhYiBQeXRob24gbW9kdWxlLgogKi8KKGZ1bmN0aW9uKHNjb3BlKSB7CmZ1bmN0aW9uIHNwYW4odGV4dCwgc3R5bGVBdHRyaWJ1dGVzID0ge30pIHsKICBjb25zdCBlbGVtZW50ID0gZG9jdW1lbnQuY3JlYXRlRWxlbWVudCgnc3BhbicpOwogIGVsZW1lbnQudGV4dENvbnRlbnQgPSB0ZXh0OwogIGZvciAoY29uc3Qga2V5IG9mIE9iamVjdC5rZXlzKHN0eWxlQXR0cmlidXRlcykpIHsKICAgIGVsZW1lbnQuc3R5bGVba2V5XSA9IHN0eWxlQXR0cmlidXRlc1trZXldOwogIH0KICByZXR1cm4gZWxlbWVudDsKfQoKLy8gTWF4IG51bWJlciBvZiBieXRlcyB3aGljaCB3aWxsIGJlIHVwbG9hZGVkIGF0IGEgdGltZS4KY29uc3QgTUFYX1BBWUxPQURfU0laRSA9IDEwMCAqIDEwMjQ7Ci8vIE1heCBhbW91bnQgb2YgdGltZSB0byBibG9jayB3YWl0aW5nIGZvciB0aGUgdXNlci4KY29uc3QgRklMRV9DSEFOR0VfVElNRU9VVF9NUyA9IDMwICogMTAwMDsKCmZ1bmN0aW9uIF91cGxvYWRGaWxlcyhpbnB1dElkLCBvdXRwdXRJZCkgewogIGNvbnN0IHN0ZXBzID0gdXBsb2FkRmlsZXNTdGVwKGlucHV0SWQsIG91dHB1dElkKTsKICBjb25zdCBvdXRwdXRFbGVtZW50ID0gZG9jdW1lbnQuZ2V0RWxlbWVudEJ5SWQob3V0cHV0SWQpOwogIC8vIENhY2hlIHN0ZXBzIG9uIHRoZSBvdXRwdXRFbGVtZW50IHRvIG1ha2UgaXQgYXZhaWxhYmxlIGZvciB0aGUgbmV4dCBjYWxsCiAgLy8gdG8gdXBsb2FkRmlsZXNDb250aW51ZSBmcm9tIFB5dGhvbi4KICBvdXRwdXRFbGVtZW50LnN0ZXBzID0gc3RlcHM7CgogIHJldHVybiBfdXBsb2FkRmlsZXNDb250aW51ZShvdXRwdXRJZCk7Cn0KCi8vIFRoaXMgaXMgcm91Z2hseSBhbiBhc3luYyBnZW5lcmF0b3IgKG5vdCBzdXBwb3J0ZWQgaW4gdGhlIGJyb3dzZXIgeWV0KSwKLy8gd2hlcmUgdGhlcmUgYXJlIG11bHRpcGxlIGFzeW5jaHJvbm91cyBzdGVwcyBhbmQgdGhlIFB5dGhvbiBzaWRlIGlzIGdvaW5nCi8vIHRvIHBvbGwgZm9yIGNvbXBsZXRpb24gb2YgZWFjaCBzdGVwLgovLyBUaGlzIHVzZXMgYSBQcm9taXNlIHRvIGJsb2NrIHRoZSBweXRob24gc2lkZSBvbiBjb21wbGV0aW9uIG9mIGVhY2ggc3RlcCwKLy8gdGhlbiBwYXNzZXMgdGhlIHJlc3VsdCBvZiB0aGUgcHJldmlvdXMgc3RlcCBhcyB0aGUgaW5wdXQgdG8gdGhlIG5leHQgc3RlcC4KZnVuY3Rpb24gX3VwbG9hZEZpbGVzQ29udGludWUob3V0cHV0SWQpIHsKICBjb25zdCBvdXRwdXRFbGVtZW50ID0gZG9jdW1lbnQuZ2V0RWxlbWVudEJ5SWQob3V0cHV0SWQpOwogIGNvbnN0IHN0ZXBzID0gb3V0cHV0RWxlbWVudC5zdGVwczsKCiAgY29uc3QgbmV4dCA9IHN0ZXBzLm5leHQob3V0cHV0RWxlbWVudC5sYXN0UHJvbWlzZVZhbHVlKTsKICByZXR1cm4gUHJvbWlzZS5yZXNvbHZlKG5leHQudmFsdWUucHJvbWlzZSkudGhlbigodmFsdWUpID0+IHsKICAgIC8vIENhY2hlIHRoZSBsYXN0IHByb21pc2UgdmFsdWUgdG8gbWFrZSBpdCBhdmFpbGFibGUgdG8gdGhlIG5leHQKICAgIC8vIHN0ZXAgb2YgdGhlIGdlbmVyYXRvci4KICAgIG91dHB1dEVsZW1lbnQubGFzdFByb21pc2VWYWx1ZSA9IHZhbHVlOwogICAgcmV0dXJuIG5leHQudmFsdWUucmVzcG9uc2U7CiAgfSk7Cn0KCi8qKgogKiBHZW5lcmF0b3IgZnVuY3Rpb24gd2hpY2ggaXMgY2FsbGVkIGJldHdlZW4gZWFjaCBhc3luYyBzdGVwIG9mIHRoZSB1cGxvYWQKICogcHJvY2Vzcy4KICogQHBhcmFtIHtzdHJpbmd9IGlucHV0SWQgRWxlbWVudCBJRCBvZiB0aGUgaW5wdXQgZmlsZSBwaWNrZXIgZWxlbWVudC4KICogQHBhcmFtIHtzdHJpbmd9IG91dHB1dElkIEVsZW1lbnQgSUQgb2YgdGhlIG91dHB1dCBkaXNwbGF5LgogKiBAcmV0dXJuIHshSXRlcmFibGU8IU9iamVjdD59IEl0ZXJhYmxlIG9mIG5leHQgc3RlcHMuCiAqLwpmdW5jdGlvbiogdXBsb2FkRmlsZXNTdGVwKGlucHV0SWQsIG91dHB1dElkKSB7CiAgY29uc3QgaW5wdXRFbGVtZW50ID0gZG9jdW1lbnQuZ2V0RWxlbWVudEJ5SWQoaW5wdXRJZCk7CiAgaW5wdXRFbGVtZW50LmRpc2FibGVkID0gZmFsc2U7CgogIGNvbnN0IG91dHB1dEVsZW1lbnQgPSBkb2N1bWVudC5nZXRFbGVtZW50QnlJZChvdXRwdXRJZCk7CiAgb3V0cHV0RWxlbWVudC5pbm5lckhUTUwgPSAnJzsKCiAgY29uc3QgcGlja2VkUHJvbWlzZSA9IG5ldyBQcm9taXNlKChyZXNvbHZlKSA9PiB7CiAgICBpbnB1dEVsZW1lbnQuYWRkRXZlbnRMaXN0ZW5lcignY2hhbmdlJywgKGUpID0+IHsKICAgICAgcmVzb2x2ZShlLnRhcmdldC5maWxlcyk7CiAgICB9KTsKICB9KTsKCiAgY29uc3QgY2FuY2VsID0gZG9jdW1lbnQuY3JlYXRlRWxlbWVudCgnYnV0dG9uJyk7CiAgaW5wdXRFbGVtZW50LnBhcmVudEVsZW1lbnQuYXBwZW5kQ2hpbGQoY2FuY2VsKTsKICBjYW5jZWwudGV4dENvbnRlbnQgPSAnQ2FuY2VsIHVwbG9hZCc7CiAgY29uc3QgY2FuY2VsUHJvbWlzZSA9IG5ldyBQcm9taXNlKChyZXNvbHZlKSA9PiB7CiAgICBjYW5jZWwub25jbGljayA9ICgpID0+IHsKICAgICAgcmVzb2x2ZShudWxsKTsKICAgIH07CiAgfSk7CgogIC8vIENhbmNlbCB1cGxvYWQgaWYgdXNlciBoYXNuJ3QgcGlja2VkIGFueXRoaW5nIGluIHRpbWVvdXQuCiAgY29uc3QgdGltZW91dFByb21pc2UgPSBuZXcgUHJvbWlzZSgocmVzb2x2ZSkgPT4gewogICAgc2V0VGltZW91dCgoKSA9PiB7CiAgICAgIHJlc29sdmUobnVsbCk7CiAgICB9LCBGSUxFX0NIQU5HRV9USU1FT1VUX01TKTsKICB9KTsKCiAgLy8gV2FpdCBmb3IgdGhlIHVzZXIgdG8gcGljayB0aGUgZmlsZXMuCiAgY29uc3QgZmlsZXMgPSB5aWVsZCB7CiAgICBwcm9taXNlOiBQcm9taXNlLnJhY2UoW3BpY2tlZFByb21pc2UsIHRpbWVvdXRQcm9taXNlLCBjYW5jZWxQcm9taXNlXSksCiAgICByZXNwb25zZTogewogICAgICBhY3Rpb246ICdzdGFydGluZycsCiAgICB9CiAgfTsKCiAgaWYgKCFmaWxlcykgewogICAgcmV0dXJuIHsKICAgICAgcmVzcG9uc2U6IHsKICAgICAgICBhY3Rpb246ICdjb21wbGV0ZScsCiAgICAgIH0KICAgIH07CiAgfQoKICBjYW5jZWwucmVtb3ZlKCk7CgogIC8vIERpc2FibGUgdGhlIGlucHV0IGVsZW1lbnQgc2luY2UgZnVydGhlciBwaWNrcyBhcmUgbm90IGFsbG93ZWQuCiAgaW5wdXRFbGVtZW50LmRpc2FibGVkID0gdHJ1ZTsKCiAgZm9yIChjb25zdCBmaWxlIG9mIGZpbGVzKSB7CiAgICBjb25zdCBsaSA9IGRvY3VtZW50LmNyZWF0ZUVsZW1lbnQoJ2xpJyk7CiAgICBsaS5hcHBlbmQoc3BhbihmaWxlLm5hbWUsIHtmb250V2VpZ2h0OiAnYm9sZCd9KSk7CiAgICBsaS5hcHBlbmQoc3BhbigKICAgICAgICBgKCR7ZmlsZS50eXBlIHx8ICduL2EnfSkgLSAke2ZpbGUuc2l6ZX0gYnl0ZXMsIGAgKwogICAgICAgIGBsYXN0IG1vZGlmaWVkOiAkewogICAgICAgICAgICBmaWxlLmxhc3RNb2RpZmllZERhdGUgPyBmaWxlLmxhc3RNb2RpZmllZERhdGUudG9Mb2NhbGVEYXRlU3RyaW5nKCkgOgogICAgICAgICAgICAgICAgICAgICAgICAgICAgICAgICAgICAnbi9hJ30gLSBgKSk7CiAgICBjb25zdCBwZXJjZW50ID0gc3BhbignMCUgZG9uZScpOwogICAgbGkuYXBwZW5kQ2hpbGQocGVyY2VudCk7CgogICAgb3V0cHV0RWxlbWVudC5hcHBlbmRDaGlsZChsaSk7CgogICAgY29uc3QgZmlsZURhdGFQcm9taXNlID0gbmV3IFByb21pc2UoKHJlc29sdmUpID0+IHsKICAgICAgY29uc3QgcmVhZGVyID0gbmV3IEZpbGVSZWFkZXIoKTsKICAgICAgcmVhZGVyLm9ubG9hZCA9IChlKSA9PiB7CiAgICAgICAgcmVzb2x2ZShlLnRhcmdldC5yZXN1bHQpOwogICAgICB9OwogICAgICByZWFkZXIucmVhZEFzQXJyYXlCdWZmZXIoZmlsZSk7CiAgICB9KTsKICAgIC8vIFdhaXQgZm9yIHRoZSBkYXRhIHRvIGJlIHJlYWR5LgogICAgbGV0IGZpbGVEYXRhID0geWllbGQgewogICAgICBwcm9taXNlOiBmaWxlRGF0YVByb21pc2UsCiAgICAgIHJlc3BvbnNlOiB7CiAgICAgICAgYWN0aW9uOiAnY29udGludWUnLAogICAgICB9CiAgICB9OwoKICAgIC8vIFVzZSBhIGNodW5rZWQgc2VuZGluZyB0byBhdm9pZCBtZXNzYWdlIHNpemUgbGltaXRzLiBTZWUgYi82MjExNTY2MC4KICAgIGxldCBwb3NpdGlvbiA9IDA7CiAgICB3aGlsZSAocG9zaXRpb24gPCBmaWxlRGF0YS5ieXRlTGVuZ3RoKSB7CiAgICAgIGNvbnN0IGxlbmd0aCA9IE1hdGgubWluKGZpbGVEYXRhLmJ5dGVMZW5ndGggLSBwb3NpdGlvbiwgTUFYX1BBWUxPQURfU0laRSk7CiAgICAgIGNvbnN0IGNodW5rID0gbmV3IFVpbnQ4QXJyYXkoZmlsZURhdGEsIHBvc2l0aW9uLCBsZW5ndGgpOwogICAgICBwb3NpdGlvbiArPSBsZW5ndGg7CgogICAgICBjb25zdCBiYXNlNjQgPSBidG9hKFN0cmluZy5mcm9tQ2hhckNvZGUuYXBwbHkobnVsbCwgY2h1bmspKTsKICAgICAgeWllbGQgewogICAgICAgIHJlc3BvbnNlOiB7CiAgICAgICAgICBhY3Rpb246ICdhcHBlbmQnLAogICAgICAgICAgZmlsZTogZmlsZS5uYW1lLAogICAgICAgICAgZGF0YTogYmFzZTY0LAogICAgICAgIH0sCiAgICAgIH07CiAgICAgIHBlcmNlbnQudGV4dENvbnRlbnQgPQogICAgICAgICAgYCR7TWF0aC5yb3VuZCgocG9zaXRpb24gLyBmaWxlRGF0YS5ieXRlTGVuZ3RoKSAqIDEwMCl9JSBkb25lYDsKICAgIH0KICB9CgogIC8vIEFsbCBkb25lLgogIHlpZWxkIHsKICAgIHJlc3BvbnNlOiB7CiAgICAgIGFjdGlvbjogJ2NvbXBsZXRlJywKICAgIH0KICB9Owp9CgpzY29wZS5nb29nbGUgPSBzY29wZS5nb29nbGUgfHwge307CnNjb3BlLmdvb2dsZS5jb2xhYiA9IHNjb3BlLmdvb2dsZS5jb2xhYiB8fCB7fTsKc2NvcGUuZ29vZ2xlLmNvbGFiLl9maWxlcyA9IHsKICBfdXBsb2FkRmlsZXMsCiAgX3VwbG9hZEZpbGVzQ29udGludWUsCn07Cn0pKHNlbGYpOwo=",
              "ok": true,
              "headers": [
                [
                  "content-type",
                  "application/javascript"
                ]
              ],
              "status": 200,
              "status_text": ""
            }
          },
          "base_uri": "https://localhost:8080/",
          "height": 74
        },
        "outputId": "5070ecd8-3132-49d7-a941-1989613b5ba2"
      },
      "source": [
        "from google.colab import files\n",
        "uploaded = files.upload()\n",
        "\n"
      ],
      "execution_count": null,
      "outputs": [
        {
          "output_type": "display_data",
          "data": {
            "text/html": [
              "\n",
              "     <input type=\"file\" id=\"files-6bd9edf2-b414-4f93-bf1f-022589b41f23\" name=\"files[]\" multiple disabled />\n",
              "     <output id=\"result-6bd9edf2-b414-4f93-bf1f-022589b41f23\">\n",
              "      Upload widget is only available when the cell has been executed in the\n",
              "      current browser session. Please rerun this cell to enable.\n",
              "      </output>\n",
              "      <script src=\"/nbextensions/google.colab/files.js\"></script> "
            ],
            "text/plain": [
              "<IPython.core.display.HTML object>"
            ]
          },
          "metadata": {
            "tags": []
          }
        },
        {
          "output_type": "stream",
          "text": [
            "Saving emotion.data to emotion.data\n"
          ],
          "name": "stdout"
        }
      ]
    },
    {
      "cell_type": "code",
      "metadata": {
        "id": "vZEhW4G9fOHI"
      },
      "source": [
        "import io\n",
        "dataset = pd.read_csv(io.BytesIO(uploaded['emotion.data']))\n",
        "# Dataset is now stored in a Pandas Dataframe"
      ],
      "execution_count": null,
      "outputs": []
    },
    {
      "cell_type": "code",
      "metadata": {
        "id": "I8sY7pksfi4P",
        "colab": {
          "base_uri": "https://localhost:8080/",
          "height": 317
        },
        "outputId": "19280930-0a71-44a1-d8ca-4c786c72b697"
      },
      "source": [
        "dataset.emotions.value_counts().plot.bar()"
      ],
      "execution_count": null,
      "outputs": [
        {
          "output_type": "execute_result",
          "data": {
            "text/plain": [
              "<matplotlib.axes._subplots.AxesSubplot at 0x7f7e99dff390>"
            ]
          },
          "metadata": {
            "tags": []
          },
          "execution_count": 6
        },
        {
          "output_type": "display_data",
          "data": {
            "image/png": "[encoded data removed]",
            "text/plain": [
              "<Figure size 432x288 with 1 Axes>"
            ]
          },
          "metadata": {
            "tags": []
          }
        }
      ]
    },
    {
      "cell_type": "code",
      "metadata": {
        "id": "6WGFsBwyfpek",
        "colab": {
          "base_uri": "https://localhost:8080/",
          "height": 359
        },
        "outputId": "e086e245-2b55-47fa-84f0-7ba98eea3b04"
      },
      "source": [
        "dataset.head(10)"
      ],
      "execution_count": null,
      "outputs": [
        {
          "output_type": "execute_result",
          "data": {
            "text/html": [
              "<div>\n",
              "<style scoped>\n",
              "    .dataframe tbody tr th:only-of-type {\n",
              "        vertical-align: middle;\n",
              "    }\n",
              "\n",
              "    .dataframe tbody tr th {\n",
              "        vertical-align: top;\n",
              "    }\n",
              "\n",
              "    .dataframe thead th {\n",
              "        text-align: right;\n",
              "    }\n",
              "</style>\n",
              "<table border=\"1\" class=\"dataframe\">\n",
              "  <thead>\n",
              "    <tr style=\"text-align: right;\">\n",
              "      <th></th>\n",
              "      <th>Unnamed: 0</th>\n",
              "      <th>text</th>\n",
              "      <th>emotions</th>\n",
              "    </tr>\n",
              "  </thead>\n",
              "  <tbody>\n",
              "    <tr>\n",
              "      <th>0</th>\n",
              "      <td>27383</td>\n",
              "      <td>i feel awful about it too because it s my job ...</td>\n",
              "      <td>sadness</td>\n",
              "    </tr>\n",
              "    <tr>\n",
              "      <th>1</th>\n",
              "      <td>110083</td>\n",
              "      <td>im alone i feel awful</td>\n",
              "      <td>sadness</td>\n",
              "    </tr>\n",
              "    <tr>\n",
              "      <th>2</th>\n",
              "      <td>140764</td>\n",
              "      <td>ive probably mentioned this before but i reall...</td>\n",
              "      <td>joy</td>\n",
              "    </tr>\n",
              "    <tr>\n",
              "      <th>3</th>\n",
              "      <td>100071</td>\n",
              "      <td>i was feeling a little low few days back</td>\n",
              "      <td>sadness</td>\n",
              "    </tr>\n",
              "    <tr>\n",
              "      <th>4</th>\n",
              "      <td>2837</td>\n",
              "      <td>i beleive that i am much more sensitive to oth...</td>\n",
              "      <td>love</td>\n",
              "    </tr>\n",
              "    <tr>\n",
              "      <th>5</th>\n",
              "      <td>18231</td>\n",
              "      <td>i find myself frustrated with christians becau...</td>\n",
              "      <td>love</td>\n",
              "    </tr>\n",
              "    <tr>\n",
              "      <th>6</th>\n",
              "      <td>10714</td>\n",
              "      <td>i am one of those people who feels like going ...</td>\n",
              "      <td>joy</td>\n",
              "    </tr>\n",
              "    <tr>\n",
              "      <th>7</th>\n",
              "      <td>35177</td>\n",
              "      <td>i feel especially pleased about this as this h...</td>\n",
              "      <td>joy</td>\n",
              "    </tr>\n",
              "    <tr>\n",
              "      <th>8</th>\n",
              "      <td>122177</td>\n",
              "      <td>i was struggling with these awful feelings and...</td>\n",
              "      <td>joy</td>\n",
              "    </tr>\n",
              "    <tr>\n",
              "      <th>9</th>\n",
              "      <td>26723</td>\n",
              "      <td>i feel so enraged but helpless at the same time</td>\n",
              "      <td>anger</td>\n",
              "    </tr>\n",
              "  </tbody>\n",
              "</table>\n",
              "</div>"
            ],
            "text/plain": [
              "   Unnamed: 0                                               text emotions\n",
              "0       27383  i feel awful about it too because it s my job ...  sadness\n",
              "1      110083                              im alone i feel awful  sadness\n",
              "2      140764  ive probably mentioned this before but i reall...      joy\n",
              "3      100071           i was feeling a little low few days back  sadness\n",
              "4        2837  i beleive that i am much more sensitive to oth...     love\n",
              "5       18231  i find myself frustrated with christians becau...     love\n",
              "6       10714  i am one of those people who feels like going ...      joy\n",
              "7       35177  i feel especially pleased about this as this h...      joy\n",
              "8      122177  i was struggling with these awful feelings and...      joy\n",
              "9       26723    i feel so enraged but helpless at the same time    anger"
            ]
          },
          "metadata": {
            "tags": []
          },
          "execution_count": 7
        }
      ]
    },
    {
      "cell_type": "code",
      "metadata": {
        "id": "Wzy64d40fuD3"
      },
      "source": [
        "input_sentences = [text.split(\" \") for text in dataset[\"text\"].values.tolist()]\n",
        "labels = dataset[\"emotions\"].values.tolist()\n"
      ],
      "execution_count": null,
      "outputs": []
    },
    {
      "cell_type": "code",
      "metadata": {
        "id": "zAIyXDYygroL",
        "colab": {
          "base_uri": "https://localhost:8080/",
          "height": 51
        },
        "outputId": "77ee6f12-eb49-4901-ef5d-d0321dbbd5a1"
      },
      "source": [
        "print(len(labels))\n",
        "print(labels[0],labels[1],labels[2],labels[3],labels[4],labels[5],labels[10],labels[11],labels[12],labels[13],labels[14],labels[15])"
      ],
      "execution_count": null,
      "outputs": [
        {
          "output_type": "stream",
          "text": [
            "416809\n",
            "sadness sadness joy sadness love love anger sadness joy anger anger joy\n"
          ],
          "name": "stdout"
        }
      ]
    },
    {
      "cell_type": "code",
      "metadata": {
        "id": "I7WgeCCkf5Rk"
      },
      "source": [
        "word2id = dict()\n",
        "label2id = dict()\n",
        "\n",
        "max_words = 0 "
      ],
      "execution_count": null,
      "outputs": []
    },
    {
      "cell_type": "code",
      "metadata": {
        "id": "_Cy-Hzi-f6zg",
        "colab": {
          "base_uri": "https://localhost:8080/",
          "height": 34
        },
        "outputId": "6c3b6c14-91e0-41a0-fa7a-06c4f68a320e"
      },
      "source": [
        "for sentence in input_sentences:\n",
        "    for word in sentence:\n",
        "        if word not in word2id:\n",
        "            word2id[word] = len(word2id)\n",
        "    if len(sentence) > max_words:\n",
        "        max_words = len(sentence)\n",
        "    \n",
        "label2id = {l: i for i, l in enumerate(set(labels))}\n",
        "id2label = {v: k for k, v in label2id.items()}\n",
        "id2label"
      ],
      "execution_count": null,
      "outputs": [
        {
          "output_type": "execute_result",
          "data": {
            "text/plain": [
              "{0: 'joy', 1: 'fear', 2: 'sadness', 3: 'love', 4: 'surprise', 5: 'anger'}"
            ]
          },
          "metadata": {
            "tags": []
          },
          "execution_count": 96
        }
      ]
    },
    {
      "cell_type": "code",
      "metadata": {
        "id": "SofRfZm2ijsr",
        "colab": {
          "base_uri": "https://localhost:8080/",
          "height": 34
        },
        "outputId": "af0ccf80-8cf6-4de5-e087-651f8f4e0d92"
      },
      "source": [
        "max_words"
      ],
      "execution_count": null,
      "outputs": [
        {
          "output_type": "execute_result",
          "data": {
            "text/plain": [
              "178"
            ]
          },
          "metadata": {
            "tags": []
          },
          "execution_count": 98
        }
      ]
    },
    {
      "cell_type": "code",
      "metadata": {
        "id": "4xdSOGZLgEFO",
        "colab": {
          "base_uri": "https://localhost:8080/",
          "height": 68
        },
        "outputId": "5537d297-ecb8-49cd-8207-1965af42cd87"
      },
      "source": [
        "import keras\n",
        "\n",
        "\n",
        "X = [[word2id[word] for word in sentence] for sentence in input_sentences]\n",
        "Y = [label2id[label] for label in labels]\n",
        "\n",
        "from keras.preprocessing.sequence import pad_sequences\n",
        "X = pad_sequences(X, max_words)\n",
        "\n",
        "Y = keras.utils.to_categorical(Y, num_classes=len(label2id), dtype='float32')\n",
        "\n",
        "# Print shapes\n",
        "print(\"Shape of X: {}\".format(X.shape))\n",
        "print(\"Shape of Y: {}\".format(Y.shape))"
      ],
      "execution_count": null,
      "outputs": [
        {
          "output_type": "stream",
          "text": [
            "Using TensorFlow backend.\n"
          ],
          "name": "stderr"
        },
        {
          "output_type": "stream",
          "text": [
            "Shape of X: (416809, 178)\n",
            "Shape of Y: (416809, 6)\n"
          ],
          "name": "stdout"
        }
      ]
    },
    {
      "cell_type": "code",
      "metadata": {
        "id": "USAF54gqgMlq",
        "colab": {
          "base_uri": "https://localhost:8080/",
          "height": 649
        },
        "outputId": "562c9608-0d61-4f4d-d9d8-f71c0a323df0"
      },
      "source": [
        "embedding_dim = 100 # The dimension of word embeddings\n",
        "\n",
        "# Define input tensor\n",
        "sequence_input = keras.Input(shape=(max_words,), dtype='int32')\n",
        "\n",
        "# Word embedding layer\n",
        "embedded_inputs =keras.layers.Embedding(len(word2id) + 1,\n",
        "                                        embedding_dim,\n",
        "                                        input_length=max_words)(sequence_input)\n",
        "\n",
        "# Apply dropout to prevent overfitting\n",
        "embedded_inputs = keras.layers.Dropout(0.2)(embedded_inputs)\n",
        "\n",
        "# Apply Bidirectional LSTM over embedded inputs\n",
        "lstm_outs = keras.layers.wrappers.Bidirectional(\n",
        "    keras.layers.LSTM(embedding_dim, return_sequences=True)\n",
        ")(embedded_inputs)\n",
        "\n",
        "# Apply dropout to LSTM outputs to prevent overfitting\n",
        "lstm_outs = keras.layers.Dropout(0.2)(lstm_outs)\n",
        "\n",
        "# Attention Mechanism - Generate attention vectors\n",
        "input_dim = int(lstm_outs.shape[2])\n",
        "permuted_inputs = keras.layers.Permute((2, 1))(lstm_outs)\n",
        "attention_vector = keras.layers.TimeDistributed(keras.layers.Dense(1))(lstm_outs)\n",
        "attention_vector = keras.layers.Reshape((max_words,))(attention_vector)\n",
        "attention_vector = keras.layers.Activation('softmax', name='attention_vec')(attention_vector)\n",
        "attention_output = keras.layers.Dot(axes=1)([lstm_outs, attention_vector])\n",
        "\n",
        "# Last layer: fully connected with softmax activation\n",
        "fc = keras.layers.Dense(embedding_dim, activation='relu')(attention_output)\n",
        "output = keras.layers.Dense(len(label2id), activation='softmax')(fc)\n",
        "\n",
        "# Finally building model\n",
        "model = keras.Model(inputs=[sequence_input], outputs=output)\n",
        "model.compile(loss=\"categorical_crossentropy\", metrics=[\"accuracy\"], optimizer='adam')\n",
        "\n",
        "# Print model summary\n",
        "model.summary()"
      ],
      "execution_count": null,
      "outputs": [
        {
          "output_type": "stream",
          "text": [
            "WARNING:tensorflow:From /usr/local/lib/python3.6/dist-packages/tensorflow/python/framework/op_def_library.py:263: colocate_with (from tensorflow.python.framework.ops) is deprecated and will be removed in a future version.\n",
            "Instructions for updating:\n",
            "Colocations handled automatically by placer.\n",
            "WARNING:tensorflow:From /usr/local/lib/python3.6/dist-packages/keras/backend/tensorflow_backend.py:3445: calling dropout (from tensorflow.python.ops.nn_ops) with keep_prob is deprecated and will be removed in a future version.\n",
            "Instructions for updating:\n",
            "Please use `rate` instead of `keep_prob`. Rate should be set to `rate = 1 - keep_prob`.\n",
            "__________________________________________________________________________________________________\n",
            "Layer (type)                    Output Shape         Param #     Connected to                     \n",
            "==================================================================================================\n",
            "input_1 (InputLayer)            (None, 178)          0                                            \n",
            "__________________________________________________________________________________________________\n",
            "embedding_1 (Embedding)         (None, 178, 100)     7530300     input_1[0][0]                    \n",
            "__________________________________________________________________________________________________\n",
            "dropout_1 (Dropout)             (None, 178, 100)     0           embedding_1[0][0]                \n",
            "__________________________________________________________________________________________________\n",
            "bidirectional_1 (Bidirectional) (None, 178, 200)     160800      dropout_1[0][0]                  \n",
            "__________________________________________________________________________________________________\n",
            "dropout_2 (Dropout)             (None, 178, 200)     0           bidirectional_1[0][0]            \n",
            "__________________________________________________________________________________________________\n",
            "time_distributed_1 (TimeDistrib (None, 178, 1)       201         dropout_2[0][0]                  \n",
            "__________________________________________________________________________________________________\n",
            "reshape_1 (Reshape)             (None, 178)          0           time_distributed_1[0][0]         \n",
            "__________________________________________________________________________________________________\n",
            "attention_vec (Activation)      (None, 178)          0           reshape_1[0][0]                  \n",
            "__________________________________________________________________________________________________\n",
            "dot_1 (Dot)                     (None, 200)          0           dropout_2[0][0]                  \n",
            "                                                                 attention_vec[0][0]              \n",
            "__________________________________________________________________________________________________\n",
            "dense_2 (Dense)                 (None, 100)          20100       dot_1[0][0]                      \n",
            "__________________________________________________________________________________________________\n",
            "dense_3 (Dense)                 (None, 6)            606         dense_2[0][0]                    \n",
            "==================================================================================================\n",
            "Total params: 7,712,007\n",
            "Trainable params: 7,712,007\n",
            "Non-trainable params: 0\n",
            "__________________________________________________________________________________________________\n"
          ],
          "name": "stdout"
        }
      ]
    },
    {
      "cell_type": "code",
      "metadata": {
        "id": "1TwbFvTEgPic",
        "colab": {
          "base_uri": "https://localhost:8080/",
          "height": 190
        },
        "outputId": "a4361a46-ed16-4443-90db-cd59d83b965a"
      },
      "source": [
        "model.fit(X, Y, epochs=2, batch_size=64, validation_split=0.1, shuffle=True)"
      ],
      "execution_count": null,
      "outputs": [
        {
          "output_type": "stream",
          "text": [
            "WARNING:tensorflow:From /usr/local/lib/python3.6/dist-packages/tensorflow/python/ops/math_ops.py:3066: to_int32 (from tensorflow.python.ops.math_ops) is deprecated and will be removed in a future version.\n",
            "Instructions for updating:\n",
            "Use tf.cast instead.\n",
            "Train on 375128 samples, validate on 41681 samples\n",
            "Epoch 1/2\n",
            "375128/375128 [==============================] - 3213s 9ms/step - loss: 0.1925 - acc: 0.9062 - val_loss: 0.0955 - val_acc: 0.9396\n",
            "Epoch 2/2\n",
            "375128/375128 [==============================] - 3201s 9ms/step - loss: 0.0953 - acc: 0.9399 - val_loss: 0.0905 - val_acc: 0.9387\n"
          ],
          "name": "stdout"
        },
        {
          "output_type": "execute_result",
          "data": {
            "text/plain": [
              "<keras.callbacks.History at 0x7f7e7f7f9240>"
            ]
          },
          "metadata": {
            "tags": []
          },
          "execution_count": 14
        }
      ]
    },
    {
      "cell_type": "code",
      "metadata": {
        "id": "xW41UOx0Gwgv",
        "colab": {
          "base_uri": "https://localhost:8080/",
          "height": 51
        },
        "outputId": "6b27c4b2-a883-4c3e-95c8-1676083ca324"
      },
      "source": [
        "!pip install -U -q PyDrive\n",
        "from pydrive.auth import GoogleAuth\n",
        "from pydrive.drive import GoogleDrive\n",
        "from google.colab import auth\n",
        "from oauth2client.client import GoogleCredentials"
      ],
      "execution_count": null,
      "outputs": [
        {
          "output_type": "stream",
          "text": [
            "\u001b[?25l\r\u001b[K     |▎                               | 10kB 23.2MB/s eta 0:00:01\r\u001b[K     |▋                               | 20kB 6.6MB/s eta 0:00:01\r\u001b[K     |█                               | 30kB 9.2MB/s eta 0:00:01\r\u001b[K     |█▎                              | 40kB 5.7MB/s eta 0:00:01\r\u001b[K     |█▋                              | 51kB 6.9MB/s eta 0:00:01\r\u001b[K     |██                              | 61kB 8.2MB/s eta 0:00:01\r\u001b[K     |██▎                             | 71kB 9.3MB/s eta 0:00:01\r\u001b[K     |██▋                             | 81kB 10.4MB/s eta 0:00:01\r\u001b[K     |███                             | 92kB 11.5MB/s eta 0:00:01\r\u001b[K     |███▎                            | 102kB 9.2MB/s eta 0:00:01\r\u001b[K     |███▋                            | 112kB 9.2MB/s eta 0:00:01\r\u001b[K     |████                            | 122kB 9.2MB/s eta 0:00:01\r\u001b[K     |████▎                           | 133kB 9.2MB/s eta 0:00:01\r\u001b[K     |████▋                           | 143kB 9.2MB/s eta 0:00:01\r\u001b[K     |█████                           | 153kB 9.2MB/s eta 0:00:01\r\u001b[K     |█████▎                          | 163kB 9.2MB/s eta 0:00:01\r\u001b[K     |█████▋                          | 174kB 9.2MB/s eta 0:00:01\r\u001b[K     |██████                          | 184kB 9.2MB/s eta 0:00:01\r\u001b[K     |██████▎                         | 194kB 9.2MB/s eta 0:00:01\r\u001b[K     |██████▋                         | 204kB 9.2MB/s eta 0:00:01\r\u001b[K     |███████                         | 215kB 9.2MB/s eta 0:00:01\r\u001b[K     |███████▎                        | 225kB 9.2MB/s eta 0:00:01\r\u001b[K     |███████▋                        | 235kB 9.2MB/s eta 0:00:01\r\u001b[K     |████████                        | 245kB 9.2MB/s eta 0:00:01\r\u001b[K     |████████▎                       | 256kB 9.2MB/s eta 0:00:01\r\u001b[K     |████████▋                       | 266kB 9.2MB/s eta 0:00:01\r\u001b[K     |█████████                       | 276kB 9.2MB/s eta 0:00:01\r\u001b[K     |█████████▎                      | 286kB 9.2MB/s eta 0:00:01\r\u001b[K     |█████████▋                      | 296kB 9.2MB/s eta 0:00:01\r\u001b[K     |██████████                      | 307kB 9.2MB/s eta 0:00:01\r\u001b[K     |██████████▎                     | 317kB 9.2MB/s eta 0:00:01\r\u001b[K     |██████████▋                     | 327kB 9.2MB/s eta 0:00:01\r\u001b[K     |███████████                     | 337kB 9.2MB/s eta 0:00:01\r\u001b[K     |███████████▎                    | 348kB 9.2MB/s eta 0:00:01\r\u001b[K     |███████████▋                    | 358kB 9.2MB/s eta 0:00:01\r\u001b[K     |████████████                    | 368kB 9.2MB/s eta 0:00:01\r\u001b[K     |████████████▎                   | 378kB 9.2MB/s eta 0:00:01\r\u001b[K     |████████████▋                   | 389kB 9.2MB/s eta 0:00:01\r\u001b[K     |█████████████                   | 399kB 9.2MB/s eta 0:00:01\r\u001b[K     |█████████████▎                  | 409kB 9.2MB/s eta 0:00:01\r\u001b[K     |█████████████▋                  | 419kB 9.2MB/s eta 0:00:01\r\u001b[K     |██████████████                  | 430kB 9.2MB/s eta 0:00:01\r\u001b[K     |██████████████▎                 | 440kB 9.2MB/s eta 0:00:01\r\u001b[K     |██████████████▋                 | 450kB 9.2MB/s eta 0:00:01\r\u001b[K     |███████████████                 | 460kB 9.2MB/s eta 0:00:01\r\u001b[K     |███████████████▎                | 471kB 9.2MB/s eta 0:00:01\r\u001b[K     |███████████████▋                | 481kB 9.2MB/s eta 0:00:01\r\u001b[K     |████████████████                | 491kB 9.2MB/s eta 0:00:01\r\u001b[K     |████████████████▎               | 501kB 9.2MB/s eta 0:00:01\r\u001b[K     |████████████████▋               | 512kB 9.2MB/s eta 0:00:01\r\u001b[K     |█████████████████               | 522kB 9.2MB/s eta 0:00:01\r\u001b[K     |█████████████████▎              | 532kB 9.2MB/s eta 0:00:01\r\u001b[K     |█████████████████▋              | 542kB 9.2MB/s eta 0:00:01\r\u001b[K     |██████████████████              | 552kB 9.2MB/s eta 0:00:01\r\u001b[K     |██████████████████▎             | 563kB 9.2MB/s eta 0:00:01\r\u001b[K     |██████████████████▋             | 573kB 9.2MB/s eta 0:00:01\r\u001b[K     |███████████████████             | 583kB 9.2MB/s eta 0:00:01\r\u001b[K     |███████████████████▎            | 593kB 9.2MB/s eta 0:00:01\r\u001b[K     |███████████████████▋            | 604kB 9.2MB/s eta 0:00:01\r\u001b[K     |████████████████████            | 614kB 9.2MB/s eta 0:00:01\r\u001b[K     |████████████████████▎           | 624kB 9.2MB/s eta 0:00:01\r\u001b[K     |████████████████████▋           | 634kB 9.2MB/s eta 0:00:01\r\u001b[K     |█████████████████████           | 645kB 9.2MB/s eta 0:00:01\r\u001b[K     |█████████████████████▎          | 655kB 9.2MB/s eta 0:00:01\r\u001b[K     |█████████████████████▋          | 665kB 9.2MB/s eta 0:00:01\r\u001b[K     |██████████████████████          | 675kB 9.2MB/s eta 0:00:01\r\u001b[K     |██████████████████████▎         | 686kB 9.2MB/s eta 0:00:01\r\u001b[K     |██████████████████████▋         | 696kB 9.2MB/s eta 0:00:01\r\u001b[K     |███████████████████████         | 706kB 9.2MB/s eta 0:00:01\r\u001b[K     |███████████████████████▎        | 716kB 9.2MB/s eta 0:00:01\r\u001b[K     |███████████████████████▋        | 727kB 9.2MB/s eta 0:00:01\r\u001b[K     |████████████████████████        | 737kB 9.2MB/s eta 0:00:01\r\u001b[K     |████████████████████████▎       | 747kB 9.2MB/s eta 0:00:01\r\u001b[K     |████████████████████████▋       | 757kB 9.2MB/s eta 0:00:01\r\u001b[K     |████████████████████████▉       | 768kB 9.2MB/s eta 0:00:01\r\u001b[K     |█████████████████████████▏      | 778kB 9.2MB/s eta 0:00:01\r\u001b[K     |█████████████████████████▌      | 788kB 9.2MB/s eta 0:00:01\r\u001b[K     |█████████████████████████▉      | 798kB 9.2MB/s eta 0:00:01\r\u001b[K     |██████████████████████████▏     | 808kB 9.2MB/s eta 0:00:01\r\u001b[K     |██████████████████████████▌     | 819kB 9.2MB/s eta 0:00:01\r\u001b[K     |██████████████████████████▉     | 829kB 9.2MB/s eta 0:00:01\r\u001b[K     |███████████████████████████▏    | 839kB 9.2MB/s eta 0:00:01\r\u001b[K     |███████████████████████████▌    | 849kB 9.2MB/s eta 0:00:01\r\u001b[K     |███████████████████████████▉    | 860kB 9.2MB/s eta 0:00:01\r\u001b[K     |████████████████████████████▏   | 870kB 9.2MB/s eta 0:00:01\r\u001b[K     |████████████████████████████▌   | 880kB 9.2MB/s eta 0:00:01\r\u001b[K     |████████████████████████████▉   | 890kB 9.2MB/s eta 0:00:01\r\u001b[K     |█████████████████████████████▏  | 901kB 9.2MB/s eta 0:00:01\r\u001b[K     |█████████████████████████████▌  | 911kB 9.2MB/s eta 0:00:01\r\u001b[K     |█████████████████████████████▉  | 921kB 9.2MB/s eta 0:00:01\r\u001b[K     |██████████████████████████████▏ | 931kB 9.2MB/s eta 0:00:01\r\u001b[K     |██████████████████████████████▌ | 942kB 9.2MB/s eta 0:00:01\r\u001b[K     |██████████████████████████████▉ | 952kB 9.2MB/s eta 0:00:01\r\u001b[K     |███████████████████████████████▏| 962kB 9.2MB/s eta 0:00:01\r\u001b[K     |███████████████████████████████▌| 972kB 9.2MB/s eta 0:00:01\r\u001b[K     |███████████████████████████████▉| 983kB 9.2MB/s eta 0:00:01\r\u001b[K     |████████████████████████████████| 993kB 9.2MB/s \n",
            "\u001b[?25h  Building wheel for PyDrive (setup.py) ... \u001b[?25l\u001b[?25hdone\n"
          ],
          "name": "stdout"
        }
      ]
    },
    {
      "cell_type": "code",
      "metadata": {
        "id": "0kmppOFUGhVM"
      },
      "source": [
        "auth.authenticate_user()\n",
        "gauth = GoogleAuth()\n",
        "gauth.credentials = GoogleCredentials.get_application_default()\n",
        "drive = GoogleDrive(gauth)"
      ],
      "execution_count": null,
      "outputs": []
    },
    {
      "cell_type": "code",
      "metadata": {
        "id": "kKFuHp-R44O5"
      },
      "source": [
        "# Re-create the model to get attention vectors as well as label prediction\n",
        "model_with_attentions = keras.Model(inputs=model.input,\n",
        "                                    outputs=[model.output, \n",
        "                                             model.get_layer('attention_vec').output])\n",
        "model.save('my_model.h5')\n",
        "model_file = drive.CreateFile({'title' : 'my_model.h5'})\n",
        "model_file.SetContentFile('my_model.h5')\n",
        "model_file.Upload()\n"
      ],
      "execution_count": null,
      "outputs": []
    },
    {
      "cell_type": "code",
      "metadata": {
        "id": "gLz8sxh4HD6f",
        "colab": {
          "base_uri": "https://localhost:8080/",
          "height": 34
        },
        "outputId": "dcf02b8a-7dc1-4dc5-8288-3a2ee02b124b"
      },
      "source": [
        "drive.CreateFile({'id': model_file.get('id')})"
      ],
      "execution_count": null,
      "outputs": [
        {
          "output_type": "execute_result",
          "data": {
            "text/plain": [
              "GoogleDriveFile({'id': '1kCYH_eg9NqjQl-lx7NlJ2509-L2ryKwc'})"
            ]
          },
          "metadata": {
            "tags": []
          },
          "execution_count": 65
        }
      ]
    },
    {
      "cell_type": "code",
      "metadata": {
        "id": "LZmJPIcoE5Ze",
        "colab": {
          "base_uri": "https://localhost:8080/",
          "height": 34
        },
        "outputId": "a1966d7c-8efd-4f04-e03e-937e844bdce8"
      },
      "source": [
        "!ls {saved_model_path}"
      ],
      "execution_count": null,
      "outputs": [
        {
          "output_type": "stream",
          "text": [
            "ls: cannot access '{saved_model_path}': No such file or directory\n"
          ],
          "name": "stdout"
        }
      ]
    },
    {
      "cell_type": "code",
      "metadata": {
        "id": "zgJhyjIE4_TK"
      },
      "source": [
        "import random\n",
        "import math\n",
        "\n",
        "sample_text = \"completely overwhelmed\"\n",
        "\n",
        "# Encode samples\n",
        "tokenized_sample = sample_text.split(\" \")\n",
        "encoded_samples = [[word2id[word] for word in tokenized_sample]]\n",
        "\n",
        "# Padding\n",
        "encoded_samples = keras.preprocessing.sequence.pad_sequences(encoded_samples, maxlen=max_words)\n",
        "\n",
        "# Make predictions\n",
        "label_probs, attentions = model_with_attentions.predict(encoded_samples)\n",
        "label_probs = {id2label[_id]: prob for (label, _id), prob in zip(label2id.items(),label_probs[0])}\n",
        "\n",
        "# Get word attentions using attenion vector\n",
        "token_attention_dic = {}\n",
        "max_score = 0.0\n",
        "min_score = 0.0\n",
        "for token, attention_score in zip(tokenized_sample, attentions[0][-len(tokenized_sample):]):\n",
        "    token_attention_dic[token] = math.sqrt(attention_score)"
      ],
      "execution_count": null,
      "outputs": []
    },
    {
      "cell_type": "code",
      "metadata": {
        "id": "FoqmCSZZA8KZ"
      },
      "source": [],
      "execution_count": null,
      "outputs": []
    },
    {
      "cell_type": "code",
      "metadata": {
        "id": "1Teor-mZ5MIo",
        "colab": {
          "base_uri": "https://localhost:8080/",
          "height": 262
        },
        "outputId": "eda053a3-1020-43e4-e3d3-60d5099f9472"
      },
      "source": [
        "# VISUALIZATION\n",
        "import matplotlib.pyplot as plt; plt.rcdefaults()\n",
        "import numpy as np\n",
        "import matplotlib.pyplot as plt\n",
        "from IPython.core.display import display, HTML\n",
        "\n",
        "def rgb_to_hex(rgb):\n",
        "    return '#%02x%02x%02x' % rgb\n",
        "    \n",
        "def attention2color(attention_score):\n",
        "    r = 255 - int(attention_score * 255)\n",
        "    color = rgb_to_hex((255, r, r))\n",
        "    return str(color)\n",
        "    \n",
        "# Build HTML String to viualize attentions\n",
        "html_text = \"<hr><p style='font-size: large'><b>Text:  </b>\"\n",
        "for token, attention in token_attention_dic.items():\n",
        "    html_text += \"<span style='background-color:{};'>{} <span> \".format(attention2color(attention),\n",
        "                                                                        token)\n",
        "html_text += \"</p>\"\n",
        "# Display text enriched with attention scores \n",
        "display(HTML(html_text))\n",
        "\n",
        "# PLOT EMOTION SCORES\n",
        "emotions = [label for label, _ in label_probs.items()]\n",
        "scores = [score for _, score in label_probs.items()]\n",
        "plt.figure(figsize=(5,2))\n",
        "plt.bar(np.arange(len(emotions)), scores, align='center', alpha=0.5, color=['black', 'red', 'green', 'blue', 'cyan', \"purple\"])\n",
        "plt.xticks(np.arange(len(emotions)), emotions)\n",
        "plt.ylabel('Scores')\n",
        "plt.show()"
      ],
      "execution_count": null,
      "outputs": [
        {
          "output_type": "display_data",
          "data": {
            "text/html": [
              "<hr><p style='font-size: large'><b>Text:  </b><span style='background-color:#ff9999;'>completely <span> <span style='background-color:#ff2525;'>overwhelmed <span> </p>"
            ],
            "text/plain": [
              "<IPython.core.display.HTML object>"
            ]
          },
          "metadata": {
            "tags": []
          }
        },
        {
          "output_type": "display_data",
          "data": {
            "image/png": "[encoded data removed]",
            "text/plain": [
              "<Figure size 500x200 with 1 Axes>"
            ]
          },
          "metadata": {
            "tags": []
          }
        }
      ]
    },
    {
      "cell_type": "code",
      "metadata": {
        "id": "87Q1bf4EA9Cl"
      },
      "source": [],
      "execution_count": null,
      "outputs": []
    }
  ]
}